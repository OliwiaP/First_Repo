{
  "nbformat": 4,
  "nbformat_minor": 0,
  "metadata": {
    "colab": {
      "name": "pesel.ipynb",
      "provenance": [],
      "collapsed_sections": [],
      "authorship_tag": "ABX9TyNhUlTPNevkaf78Aqc/DP4x",
      "include_colab_link": true
    },
    "kernelspec": {
      "name": "python3",
      "display_name": "Python 3"
    }
  },
  "cells": [
    {
      "cell_type": "markdown",
      "metadata": {
        "id": "view-in-github",
        "colab_type": "text"
      },
      "source": [
        "<a href=\"https://colab.research.google.com/github/OliwiaP/Python_for_Data_Analysis/blob/master/pesel.ipynb\" target=\"_parent\"><img src=\"https://colab.research.google.com/assets/colab-badge.svg\" alt=\"Open In Colab\"/></a>"
      ]
    },
    {
      "cell_type": "code",
      "metadata": {
        "id": "Kiq9MT_BZ1nz",
        "outputId": "705af828-5f9d-4167-f28b-5ef8be51fc1a",
        "colab": {
          "base_uri": "https://localhost:8080/"
        }
      },
      "source": [
        "#Several times I tried to solve the task, unfortunately I was not able to do it efficiently. \n",
        "#I left it in the version where at least something works, that is, it generates a pesel number, \n",
        "#but I cannot change it so that it generates a large number in a reasonable time.\n",
        "\n",
        "\n",
        "import numpy as np\n",
        "\n",
        "year = np.random.randint(low=1800, high=2299)\n",
        "month = np.random.randint(low=1, high=12)\n",
        "#day = np.random.randint(low=1, high=30, size=n)\n",
        "\n",
        "if month in (1,3,5,7,8,10,12):\n",
        "  day = np.random.randint(low=1, high=31)\n",
        "elif month in (4,6,9,11):\n",
        "  day = np.random.randint(low=1, high=30)\n",
        "else:\n",
        "  if year%4 == 0:\n",
        "    day = np.random.randint(low=1, high=29)\n",
        "  else:\n",
        "    day = np.random.randint(low=1, high=28)\n",
        "\n",
        "if 1800 <= year <= 1899:\n",
        "    month += 80\n",
        "elif 2000 <= year <= 2099:\n",
        "    month += 20\n",
        "elif 2100 <= year <= 2199:\n",
        "    month += 40\n",
        "elif 2200 <= year <= 2299:\n",
        "    month += 60\n",
        "\n",
        "\n",
        "ser_1 = np.random.randint(low=0, high=9)\n",
        "ser_2 = np.random.randint(low=0, high=9)\n",
        "ser_3 = np.random.randint(low=0, high=9)\n",
        "sex = np.random.randint(low=0, high=9)\n",
        "\n",
        "\n",
        "# checksum\n",
        "control = (year//10) + 3*(year%10)\n",
        "control += 7*(month//10) + 9*(month%10)\n",
        "control += (day//10) + 3*(day%10)\n",
        "control += 7*(ser_1//10) + 9*(ser_1%10)\n",
        "control += (ser_2//10) + 3*(ser_2%10)\n",
        "control += 7*(ser_3//10) + 9*(ser_3%10)\n",
        "control += (sex//10) + 3*(sex%10)\n",
        "\n",
        "control = (10 - (control % 10)) % 10\n",
        "\n",
        "pesel_db = 1000000000*year + 10000000*month + 100000*day + 10000*ser_1 + 1000*ser_2 + 100*ser_3 + 10 * sex + control\n",
        "\n",
        "pesel = str(pesel_db)\n",
        "\n",
        "print(pesel[2:])\n",
        "\n",
        "# second part %%%%%%%%%%%%%%%%%%%%%%%%%%%%%%%%%%%%%%%%%%%%%%%%%%%%%%%%%%%%%%%%%%%%%%%%%%%%%%\n",
        "\n",
        "sum_pesel = sum(int(digit) for digit in pesel)\n",
        "\n",
        "#print(sum_pesel)\n",
        "\n",
        "while sum_pesel > 9:\n",
        "  sum_pesel = sum(int(digit) for digit in str(sum_pesel))\n",
        "\n",
        "print(\"Sum of digits in the PESEL: \", sum_pesel)\n"
      ],
      "execution_count": 29,
      "outputs": [
        {
          "output_type": "stream",
          "text": [
            "30231804009\n",
            "Sum of digits in the PESEL:  5\n"
          ],
          "name": "stdout"
        }
      ]
    }
  ]
}