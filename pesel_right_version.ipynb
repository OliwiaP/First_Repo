{
  "nbformat": 4,
  "nbformat_minor": 0,
  "metadata": {
    "colab": {
      "name": "pesel.ipynb",
      "provenance": [],
      "authorship_tag": "ABX9TyOqLF2Yz9HFFKdgbdbPa46Y",
      "include_colab_link": true
    },
    "kernelspec": {
      "name": "python3",
      "display_name": "Python 3"
    }
  },
  "cells": [
    {
      "cell_type": "markdown",
      "metadata": {
        "id": "view-in-github",
        "colab_type": "text"
      },
      "source": [
        "<a href=\"https://colab.research.google.com/github/OliwiaP/Python_for_Data_Analysis/blob/master/pesel_right_version.ipynb\" target=\"_parent\"><img src=\"https://colab.research.google.com/assets/colab-badge.svg\" alt=\"Open In Colab\"/></a>"
      ]
    },
    {
      "cell_type": "code",
      "metadata": {
        "id": "SRKI7C8asxdA"
      },
      "source": [
        "import numpy as np\n",
        "\n",
        "n = 40000000\n",
        "\n",
        "year = np.random.randint(low=1800, high=2300, size=n)\n",
        "year_number = year % 100\n",
        "\n",
        "month = np.random.randint(low=1, high=13, size=n)\n",
        "#masks\n",
        "month31 = ((month == 1) | (month == 3) | (month == 5) | (month == 7) | (month == 8) | (month == 10) | (month == 12)).astype(int)\n",
        "month30 = ((month == 4) | (month == 4) | (month == 9) | (month == 11)).astype(int)\n",
        "month28 = ((month == 2)).astype(int)\n",
        "month29 = ((month == 2) & (year % 4 == 0)).astype(int)\n",
        "\n",
        "#\n",
        "day31 = np.random.randint(low=1, high=32, size=n)\n",
        "day30 = np.random.randint(low=1, high=31, size=n)\n",
        "day28 = np.random.randint(low=1, high=29, size=n)\n",
        "day29 = np.random.randint(low=1, high=30, size=n)\n",
        "\n",
        "day = day31*month31 + day30*month30 + day29*month29 + day28*month28\n",
        "\n",
        "#\n",
        "year1899 = ((year >= 1800) & (year < 1899)).astype(int) * 80\n",
        "year2099 = ((year >= 2000) & (year < 2099)).astype(int) * 20\n",
        "year2199 = ((year >= 2100) & (year < 2199)).astype(int) * 40\n",
        "year2299 = ((year >= 2200) & (year < 2299)).astype(int) * 60\n",
        "\n",
        "month_number = month + (year1899 + year2099 + year2199 + year2299)\n",
        "\n",
        "ser_1 = np.random.randint(low=0, high=9, size=n)\n",
        "ser_2 = np.random.randint(low=0, high=9, size=n)\n",
        "ser_3 = np.random.randint(low=0, high=9, size=n)\n",
        "sex = np.random.randint(low=0, high=10, size=n)\n",
        "\n",
        "# checksum\n",
        "control = (year_number//10) + 3*(year_number%10)\n",
        "control += 7*(month_number//10) + 9*(month_number%10)\n",
        "control += (day//10) + 3*(day%10)\n",
        "control += 7*(ser_1//10) + 9*(ser_1%10)\n",
        "control += (ser_2//10) + 3*(ser_2%10)\n",
        "control += 7*(ser_3//10) + 9*(ser_3%10)\n",
        "control += (sex//10) + 3*(sex%10)\n",
        "\n",
        "control = (10 - (control % 10)) % 10\n",
        "\n",
        "pesel_db = 1000000000*year_number + 10000000*month_number + 100000*day + 10000*ser_1 + 1000*ser_2 + 100*ser_3 + 10 * sex + control\n",
        "\n",
        "#print(pesel_db)\n"
      ],
      "execution_count": 3,
      "outputs": []
    },
    {
      "cell_type": "code",
      "metadata": {
        "id": "x1OrBEGB5Jwu",
        "colab": {
          "base_uri": "https://localhost:8080/"
        },
        "outputId": "a7c99d87-5b8b-467e-9ece-d15f09f358fb"
      },
      "source": [
        "pesels = np.char.zfill(pesel_db.astype(str), 11)     # fix problem with xx00\r\n",
        "print(pesels)"
      ],
      "execution_count": 4,
      "outputs": [
        {
          "output_type": "stream",
          "text": [
            "['42010151620' '12492913014' '19021604546' ... '70060042704' '76873025699'\n",
            " '91231022545']\n"
          ],
          "name": "stdout"
        }
      ]
    },
    {
      "cell_type": "code",
      "metadata": {
        "id": "_eGxgQwqVNqz",
        "colab": {
          "base_uri": "https://localhost:8080/"
        },
        "outputId": "3cf1346a-30e4-4ff6-aee5-f831bf794520"
      },
      "source": [
        "how_many_pesels = np.unique(pesel_db)     # number of pesels wiyout duplicats\r\n",
        "print(len(how_many_pesels))"
      ],
      "execution_count": 5,
      "outputs": [
        {
          "output_type": "stream",
          "text": [
            "38274689\n"
          ],
          "name": "stdout"
        }
      ]
    }
  ]
}