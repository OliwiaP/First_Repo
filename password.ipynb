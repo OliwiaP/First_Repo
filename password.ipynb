{
  "nbformat": 4,
  "nbformat_minor": 0,
  "metadata": {
    "colab": {
      "name": "password.ipynb",
      "provenance": [],
      "authorship_tag": "ABX9TyNWF+BFXhn6KDR7FYm7M26s",
      "include_colab_link": true
    },
    "kernelspec": {
      "name": "python3",
      "display_name": "Python 3"
    }
  },
  "cells": [
    {
      "cell_type": "markdown",
      "metadata": {
        "id": "view-in-github",
        "colab_type": "text"
      },
      "source": [
        "<a href=\"https://colab.research.google.com/github/OliwiaP/First_Repo/blob/master/password.ipynb\" target=\"_parent\"><img src=\"https://colab.research.google.com/assets/colab-badge.svg\" alt=\"Open In Colab\"/></a>"
      ]
    },
    {
      "cell_type": "code",
      "metadata": {
        "id": "3-IhnfaJhT2H",
        "outputId": "381a71d9-709e-4a35-ace2-d69560114b4e",
        "colab": {
          "base_uri": "https://localhost:8080/",
          "height": 34
        }
      },
      "source": [
        "import random\n",
        "import string\n",
        "\n",
        "list_of_animals = ['dog','cat','mouse','rat','hamster','goldfish','canary','rabbit','parrot','turtle','cow','bull','horse','lamb','gander','drake','pig','hen','turkey','cock']\n",
        "chars = string.ascii_uppercase                    # duze litery\n",
        "mark = string.punctuation                         # znaki niealfabetyczne\n",
        "\n",
        "word1 = random.choice(list_of_animals)\n",
        "\n",
        "if len(word1) <= 3:                               # zeby haslo nie bylo zbyt krotkie\n",
        "  word2 = random.choice(list_of_animals)\n",
        "  word2 = word2.capitalize()                      # napisz wylosowane slowo z duzej litery\n",
        "else:\n",
        "  word2 = random.choice(chars)\n",
        "\n",
        "year = str(random.randint(0, 2020))\n",
        "\n",
        "end = random.choice(mark)\n",
        "\n",
        "print(word1+year+word2+end)\n"
      ],
      "execution_count": 44,
      "outputs": [
        {
          "output_type": "stream",
          "text": [
            "parrot1939Q@\n"
          ],
          "name": "stdout"
        }
      ]
    }
  ]
}